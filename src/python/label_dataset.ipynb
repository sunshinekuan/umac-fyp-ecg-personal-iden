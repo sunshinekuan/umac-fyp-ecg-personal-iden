{
 "cells": [
  {
   "cell_type": "code",
   "execution_count": 1,
   "metadata": {
    "colab": {
     "base_uri": "https://localhost:8080/",
     "height": 34
    },
    "colab_type": "code",
    "executionInfo": {
     "elapsed": 855,
     "status": "ok",
     "timestamp": 1589229205369,
     "user": {
      "displayName": "Ka Meng Kuan",
      "photoUrl": "https://lh3.googleusercontent.com/a-/AOh14Gg5_Uatw35HZUss95HAjm0L7oVdrnXHBEm4jwMidQ=s64",
      "userId": "16324791046788564418"
     },
     "user_tz": -480
    },
    "id": "NSo1fKSEa92c",
    "outputId": "658dbeb0-37e1-4768-db63-2daed0550405"
   },
   "outputs": [
    {
     "name": "stdout",
     "output_type": "stream",
     "text": [
      "Drive already mounted at /content/drive; to attempt to forcibly remount, call drive.mount(\"/content/drive\", force_remount=True).\n"
     ]
    }
   ],
   "source": [
    "# Enable when running at Google Colaboratory\n",
    "'''\n",
    "from google.colab import drive\n",
    "drive.mount('/content/drive')\n",
    "'''"
   ]
  },
  {
   "cell_type": "code",
   "execution_count": 0,
   "metadata": {
    "colab": {},
    "colab_type": "code",
    "id": "UfSBCjP0a3T1"
   },
   "outputs": [],
   "source": [
    "import os\n",
    "import csv"
   ]
  },
  {
   "cell_type": "code",
   "execution_count": 0,
   "metadata": {
    "colab": {},
    "colab_type": "code",
    "id": "WsceTcEta3T5"
   },
   "outputs": [],
   "source": [
    "dataset_path = '/content/drive/My Drive/FYP_ECG_ID/coding/ECGID_DB_DATASET/'\n",
    "person_id = '3'\n",
    "rec_id = '3'\n",
    "temp_data = []\n",
    "train_X = []\n",
    "train_Y = []\n",
    "\n",
    "with open(dataset_path + person_id + '/rec_' + rec_id + '.csv', newline='') as csvfile:\n",
    "    spamreader = csv.reader(csvfile, delimiter=' ', quotechar='|')\n",
    "    for row in spamreader:\n",
    "        temp_data.append(', '.join(row))\n",
    "\n",
    "    for i in range(len(temp_data)):\n",
    "        temp = temp_data[i].split(',')\n",
    "        train_X.append(temp[0])"
   ]
  },
  {
   "cell_type": "code",
   "execution_count": 0,
   "metadata": {
    "colab": {},
    "colab_type": "code",
    "id": "0NV7-YqWa3T8"
   },
   "outputs": [],
   "source": [
    "output_path = '/content/drive/My Drive/FYP_ECG_ID/coding/LABELED_DATASET/'\n",
    "with open(output_path + 'person_id_' + person_id + '_' + rec_id + '.csv', 'w+', newline='') as csvfile:\n",
    "    spamwriter = csv.writer(csvfile, delimiter=' ',\n",
    "                            quotechar='|', quoting=csv.QUOTE_MINIMAL)\n",
    "    \n",
    "    for i in range(len(temp_data)):\n",
    "        temp = train_X[i]\n",
    "        spamwriter.writerow([temp, person_id])"
   ]
  }
 ],
 "metadata": {
  "colab": {
   "collapsed_sections": [],
   "name": "label_dataset.ipynb",
   "provenance": [],
   "toc_visible": true
  },
  "kernelspec": {
   "display_name": "Python 3",
   "language": "python",
   "name": "python3"
  },
  "language_info": {
   "codemirror_mode": {
    "name": "ipython",
    "version": 3
   },
   "file_extension": ".py",
   "mimetype": "text/x-python",
   "name": "python",
   "nbconvert_exporter": "python",
   "pygments_lexer": "ipython3",
   "version": "3.7.6"
  }
 },
 "nbformat": 4,
 "nbformat_minor": 1
}
