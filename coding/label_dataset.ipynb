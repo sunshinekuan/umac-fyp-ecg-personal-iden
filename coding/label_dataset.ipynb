{
 "cells": [
  {
   "cell_type": "code",
   "execution_count": 1,
   "metadata": {},
   "outputs": [],
   "source": [
    "import os\n",
    "import csv"
   ]
  },
  {
   "cell_type": "code",
   "execution_count": 8,
   "metadata": {},
   "outputs": [],
   "source": [
    "dataset_path = 'ECGID_DB_DATASET/'\n",
    "person_id = '4'\n",
    "temp_data = []\n",
    "train_X = []\n",
    "train_Y = []\n",
    "\n",
    "with open(dataset_path + person_id + '/rec_1.csv', newline='') as csvfile:\n",
    "    spamreader = csv.reader(csvfile, delimiter=' ', quotechar='|')\n",
    "    for row in spamreader:\n",
    "        temp_data.append(', '.join(row))\n",
    "\n",
    "    for i in range(len(temp_data)):\n",
    "        temp = temp_data[i].split(',')\n",
    "        train_X.append(temp[0])"
   ]
  },
  {
   "cell_type": "code",
   "execution_count": 9,
   "metadata": {},
   "outputs": [],
   "source": [
    "output_path = 'LABELED_DATASET/'\n",
    "with open(output_path + 'person_id_' + person_id + '.csv', 'w+', newline='') as csvfile:\n",
    "    spamwriter = csv.writer(csvfile, delimiter=' ',\n",
    "                            quotechar='|', quoting=csv.QUOTE_MINIMAL)\n",
    "    \n",
    "    for i in range(len(temp_data)):\n",
    "        temp = train_X[i]\n",
    "        spamwriter.writerow([temp, person_id])"
   ]
  },
  {
   "cell_type": "code",
   "execution_count": null,
   "metadata": {},
   "outputs": [],
   "source": []
  }
 ],
 "metadata": {
  "kernelspec": {
   "display_name": "Python 3",
   "language": "python",
   "name": "python3"
  },
  "language_info": {
   "codemirror_mode": {
    "name": "ipython",
    "version": 3
   },
   "file_extension": ".py",
   "mimetype": "text/x-python",
   "name": "python",
   "nbconvert_exporter": "python",
   "pygments_lexer": "ipython3",
   "version": "3.7.6"
  }
 },
 "nbformat": 4,
 "nbformat_minor": 4
}
