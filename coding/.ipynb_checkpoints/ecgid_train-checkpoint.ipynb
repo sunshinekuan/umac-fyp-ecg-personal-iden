{
 "cells": [
  {
   "cell_type": "markdown",
   "metadata": {},
   "source": [
    "University of Macau: Computer Science Final Year Project (Group H)\n",
    "\n",
    "\"ECG Identification\" Python 3 Notebook\n",
    "---\n",
    "\n",
    "作者: Oscar Kuan\n",
    "\n",
    "日期: 2020-01-29\n",
    "\n",
    "---"
   ]
  },
  {
   "cell_type": "code",
   "execution_count": null,
   "metadata": {},
   "outputs": [],
   "source": [
    "# 指定當前文件工作資料夾\n",
    "import os\n",
    "\n",
    "# 指定於 Google Drive 的文件位置\n",
    "os.chdir(\"/\")\n",
    "\n",
    "# 列出資料夾內目錄\n",
    "!ls"
   ]
  }
 ],
 "metadata": {
  "kernelspec": {
   "display_name": "Python 3",
   "language": "python",
   "name": "python3"
  },
  "language_info": {
   "codemirror_mode": {
    "name": "ipython",
    "version": 3
   },
   "file_extension": ".py",
   "mimetype": "text/x-python",
   "name": "python",
   "nbconvert_exporter": "python",
   "pygments_lexer": "ipython3",
   "version": "3.7.6"
  }
 },
 "nbformat": 4,
 "nbformat_minor": 4
}
